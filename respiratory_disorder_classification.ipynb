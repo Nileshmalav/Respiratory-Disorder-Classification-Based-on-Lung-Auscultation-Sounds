{
 "cells": [
  {
   "cell_type": "markdown",
   "metadata": {},
   "source": [
    "## Preprocessing"
   ]
  },
  {
   "cell_type": "code",
   "execution_count": 1,
   "metadata": {},
   "outputs": [],
   "source": [
    "import numpy as np \n",
    "import pandas as pd \n",
    "import matplotlib.pyplot as plt\n",
    "import seaborn as sns\n",
    "import librosa.display\n",
    "import os"
   ]
  },
  {
   "cell_type": "code",
   "execution_count": 2,
   "metadata": {},
   "outputs": [],
   "source": [
    "import tensorflow as tf\n",
    "from tensorflow import keras"
   ]
  },
  {
   "cell_type": "code",
   "execution_count": 3,
   "metadata": {},
   "outputs": [
    {
     "data": {
      "text/plain": [
       "True"
      ]
     },
     "execution_count": 3,
     "metadata": {},
     "output_type": "execute_result"
    }
   ],
   "source": [
    "# to check if tensorflow is using gpu or not\n",
    "len(tf.config.list_physical_devices('GPU')) > 0"
   ]
  },
  {
   "cell_type": "markdown",
   "metadata": {},
   "source": [
    "Understanding Provided Data"
   ]
  },
  {
   "cell_type": "code",
   "execution_count": 12,
   "metadata": {},
   "outputs": [],
   "source": [
    "# os.getcwd()\n",
    "patient_data = pd.read_csv('Respiratory_Sound_Database\\Respiratory_Sound_Database\\patient_diagnosis.csv',names=['pid','disease'])"
   ]
  },
  {
   "cell_type": "code",
   "execution_count": 15,
   "metadata": {},
   "outputs": [
    {
     "data": {
      "text/html": [
       "<div>\n",
       "<style scoped>\n",
       "    .dataframe tbody tr th:only-of-type {\n",
       "        vertical-align: middle;\n",
       "    }\n",
       "\n",
       "    .dataframe tbody tr th {\n",
       "        vertical-align: top;\n",
       "    }\n",
       "\n",
       "    .dataframe thead th {\n",
       "        text-align: right;\n",
       "    }\n",
       "</style>\n",
       "<table border=\"1\" class=\"dataframe\">\n",
       "  <thead>\n",
       "    <tr style=\"text-align: right;\">\n",
       "      <th></th>\n",
       "      <th>pid</th>\n",
       "      <th>disease</th>\n",
       "    </tr>\n",
       "  </thead>\n",
       "  <tbody>\n",
       "    <tr>\n",
       "      <th>0</th>\n",
       "      <td>101</td>\n",
       "      <td>URTI</td>\n",
       "    </tr>\n",
       "    <tr>\n",
       "      <th>1</th>\n",
       "      <td>102</td>\n",
       "      <td>Healthy</td>\n",
       "    </tr>\n",
       "    <tr>\n",
       "      <th>2</th>\n",
       "      <td>103</td>\n",
       "      <td>Asthma</td>\n",
       "    </tr>\n",
       "    <tr>\n",
       "      <th>3</th>\n",
       "      <td>104</td>\n",
       "      <td>COPD</td>\n",
       "    </tr>\n",
       "    <tr>\n",
       "      <th>4</th>\n",
       "      <td>105</td>\n",
       "      <td>URTI</td>\n",
       "    </tr>\n",
       "  </tbody>\n",
       "</table>\n",
       "</div>"
      ],
      "text/plain": [
       "   pid  disease\n",
       "0  101     URTI\n",
       "1  102  Healthy\n",
       "2  103   Asthma\n",
       "3  104     COPD\n",
       "4  105     URTI"
      ]
     },
     "execution_count": 15,
     "metadata": {},
     "output_type": "execute_result"
    }
   ],
   "source": [
    "# printing patient id and disease info\n",
    "patient_data.head()"
   ]
  },
  {
   "cell_type": "code",
   "execution_count": 27,
   "metadata": {},
   "outputs": [
    {
     "data": {
      "text/html": [
       "<div>\n",
       "<style scoped>\n",
       "    .dataframe tbody tr th:only-of-type {\n",
       "        vertical-align: middle;\n",
       "    }\n",
       "\n",
       "    .dataframe tbody tr th {\n",
       "        vertical-align: top;\n",
       "    }\n",
       "\n",
       "    .dataframe thead th {\n",
       "        text-align: right;\n",
       "    }\n",
       "</style>\n",
       "<table border=\"1\" class=\"dataframe\">\n",
       "  <thead>\n",
       "    <tr style=\"text-align: right;\">\n",
       "      <th></th>\n",
       "      <th>start</th>\n",
       "      <th>end</th>\n",
       "      <th>crackles</th>\n",
       "      <th>wheezes</th>\n",
       "    </tr>\n",
       "  </thead>\n",
       "  <tbody>\n",
       "    <tr>\n",
       "      <th>0</th>\n",
       "      <td>0.685</td>\n",
       "      <td>2.208</td>\n",
       "      <td>0</td>\n",
       "      <td>0</td>\n",
       "    </tr>\n",
       "    <tr>\n",
       "      <th>1</th>\n",
       "      <td>2.208</td>\n",
       "      <td>4.577</td>\n",
       "      <td>1</td>\n",
       "      <td>0</td>\n",
       "    </tr>\n",
       "    <tr>\n",
       "      <th>2</th>\n",
       "      <td>4.577</td>\n",
       "      <td>6.970</td>\n",
       "      <td>1</td>\n",
       "      <td>0</td>\n",
       "    </tr>\n",
       "    <tr>\n",
       "      <th>3</th>\n",
       "      <td>6.970</td>\n",
       "      <td>9.351</td>\n",
       "      <td>0</td>\n",
       "      <td>0</td>\n",
       "    </tr>\n",
       "    <tr>\n",
       "      <th>4</th>\n",
       "      <td>9.351</td>\n",
       "      <td>11.851</td>\n",
       "      <td>0</td>\n",
       "      <td>0</td>\n",
       "    </tr>\n",
       "  </tbody>\n",
       "</table>\n",
       "</div>"
      ],
      "text/plain": [
       "   start     end  crackles  wheezes\n",
       "0  0.685   2.208         0        0\n",
       "1  2.208   4.577         1        0\n",
       "2  4.577   6.970         1        0\n",
       "3  6.970   9.351         0        0\n",
       "4  9.351  11.851         0        0"
      ]
     },
     "execution_count": 27,
     "metadata": {},
     "output_type": "execute_result"
    }
   ],
   "source": [
    "# knowing the audio text files\n",
    "df = pd.read_csv(\"Respiratory_Sound_Database/Respiratory_Sound_Database/audio_and_txt_files/203_1p4_Tc_mc_AKGC417L.txt\",sep='\\t',names=['start','end','crackles','wheezes'])\n",
    "df.head()"
   ]
  },
  {
   "cell_type": "markdown",
   "metadata": {},
   "source": [
    "The annotation text files have four columns:\n",
    "- Beginning of respiratory cycle(s)\n",
    "- End of respiratory cycle(s)\n",
    "- Presence/absence of crackles (presence=1, absence=0)\n",
    "- Presence/absence of wheezes (presence=1, absence=0)"
   ]
  },
  {
   "cell_type": "markdown",
   "metadata": {},
   "source": [
    "We can extract info from the file names also as:\n",
    "Each audio file name is divided into 5 elements, separated with underscores (_).\n",
    "\n",
    "1. Patient number (101,102,...,226)\n",
    "2. Recording index\n",
    "3. Chest location \n",
    "\n",
    "      a. Trachea (Tc)\n",
    "\n",
    "      b. Anterior left (Al)\n",
    "\n",
    "      c. Anterior right (Ar)\n",
    "\n",
    "      d. Posterior left (Pl)\n",
    "\n",
    "      e. Posterior right (Pr)\n",
    "\n",
    "      f. Lateral left (Ll)\n",
    "\n",
    "      g. Lateral right (Lr)\n",
    "\n",
    "4. Acquisition mode \n",
    "\n",
    "     a. sequential/single channel (sc), \n",
    "\n",
    "     b. simultaneous/multichannel (mc)\n",
    "\n",
    "5. Recording equipment \n",
    "\n",
    "     a. AKG C417L Microphone (AKGC417L), \n",
    "\n",
    "     b. 3M Littmann Classic II SE Stethoscope (LittC2SE), \n",
    "\n",
    "     c. 3M Litmmann 3200 Electronic Stethoscope (Litt3200), \n",
    "     \n",
    "     d.  WelchAllyn Meditron Master Elite Electronic Stethoscope (Meditron)"
   ]
  },
  {
   "cell_type": "code",
   "execution_count": 28,
   "metadata": {},
   "outputs": [
    {
     "data": {
      "text/plain": [
       "['101_1b1_Al_sc_Meditron',\n",
       " '101_1b1_Pr_sc_Meditron',\n",
       " '102_1b1_Ar_sc_Meditron',\n",
       " '103_2b2_Ar_mc_LittC2SE',\n",
       " '104_1b1_Al_sc_Litt3200']"
      ]
     },
     "execution_count": 28,
     "metadata": {},
     "output_type": "execute_result"
    }
   ],
   "source": [
    "# taking the file names\n",
    "import os\n",
    "path='Respiratory_Sound_Database/Respiratory_Sound_Database/audio_and_txt_files/'\n",
    "files=[s.split('.')[0] for s in os.listdir(path) if '.txt' in s]\n",
    "files[:5]"
   ]
  },
  {
   "cell_type": "code",
   "execution_count": 29,
   "metadata": {},
   "outputs": [],
   "source": [
    "def getFilenameInfo(file):\n",
    "    return file.split('_')"
   ]
  },
  {
   "cell_type": "code",
   "execution_count": 30,
   "metadata": {},
   "outputs": [
    {
     "data": {
      "text/plain": [
       "['101', '1b1', 'Al', 'sc', 'Meditron']"
      ]
     },
     "execution_count": 30,
     "metadata": {},
     "output_type": "execute_result"
    }
   ],
   "source": [
    "getFilenameInfo('101_1b1_Al_sc_Meditron')"
   ]
  },
  {
   "cell_type": "code",
   "execution_count": 33,
   "metadata": {},
   "outputs": [
    {
     "data": {
      "text/html": [
       "<div>\n",
       "<style scoped>\n",
       "    .dataframe tbody tr th:only-of-type {\n",
       "        vertical-align: middle;\n",
       "    }\n",
       "\n",
       "    .dataframe tbody tr th {\n",
       "        vertical-align: top;\n",
       "    }\n",
       "\n",
       "    .dataframe thead th {\n",
       "        text-align: right;\n",
       "    }\n",
       "</style>\n",
       "<table border=\"1\" class=\"dataframe\">\n",
       "  <thead>\n",
       "    <tr style=\"text-align: right;\">\n",
       "      <th></th>\n",
       "      <th>start</th>\n",
       "      <th>end</th>\n",
       "      <th>crackles</th>\n",
       "      <th>wheezes</th>\n",
       "      <th>pid</th>\n",
       "      <th>mode</th>\n",
       "      <th>filename</th>\n",
       "    </tr>\n",
       "  </thead>\n",
       "  <tbody>\n",
       "    <tr>\n",
       "      <th>0</th>\n",
       "      <td>0.036</td>\n",
       "      <td>0.579</td>\n",
       "      <td>0</td>\n",
       "      <td>0</td>\n",
       "      <td>101</td>\n",
       "      <td>sc</td>\n",
       "      <td>101_1b1_Al_sc_Meditron</td>\n",
       "    </tr>\n",
       "    <tr>\n",
       "      <th>1</th>\n",
       "      <td>0.579</td>\n",
       "      <td>2.450</td>\n",
       "      <td>0</td>\n",
       "      <td>0</td>\n",
       "      <td>101</td>\n",
       "      <td>sc</td>\n",
       "      <td>101_1b1_Al_sc_Meditron</td>\n",
       "    </tr>\n",
       "    <tr>\n",
       "      <th>2</th>\n",
       "      <td>2.450</td>\n",
       "      <td>3.893</td>\n",
       "      <td>0</td>\n",
       "      <td>0</td>\n",
       "      <td>101</td>\n",
       "      <td>sc</td>\n",
       "      <td>101_1b1_Al_sc_Meditron</td>\n",
       "    </tr>\n",
       "    <tr>\n",
       "      <th>3</th>\n",
       "      <td>3.893</td>\n",
       "      <td>5.793</td>\n",
       "      <td>0</td>\n",
       "      <td>0</td>\n",
       "      <td>101</td>\n",
       "      <td>sc</td>\n",
       "      <td>101_1b1_Al_sc_Meditron</td>\n",
       "    </tr>\n",
       "    <tr>\n",
       "      <th>4</th>\n",
       "      <td>5.793</td>\n",
       "      <td>7.521</td>\n",
       "      <td>0</td>\n",
       "      <td>0</td>\n",
       "      <td>101</td>\n",
       "      <td>sc</td>\n",
       "      <td>101_1b1_Al_sc_Meditron</td>\n",
       "    </tr>\n",
       "  </tbody>\n",
       "</table>\n",
       "</div>"
      ],
      "text/plain": [
       "   start    end  crackles  wheezes  pid mode                filename\n",
       "0  0.036  0.579         0        0  101   sc  101_1b1_Al_sc_Meditron\n",
       "1  0.579  2.450         0        0  101   sc  101_1b1_Al_sc_Meditron\n",
       "2  2.450  3.893         0        0  101   sc  101_1b1_Al_sc_Meditron\n",
       "3  3.893  5.793         0        0  101   sc  101_1b1_Al_sc_Meditron\n",
       "4  5.793  7.521         0        0  101   sc  101_1b1_Al_sc_Meditron"
      ]
     },
     "execution_count": 33,
     "metadata": {},
     "output_type": "execute_result"
    }
   ],
   "source": [
    "files_data=[]\n",
    "for file in files:\n",
    "    data=pd.read_csv(path + file + '.txt',sep='\\t',names=['start','end','crackles','wheezes'])\n",
    "    name_data=getFilenameInfo(file)\n",
    "    data['pid']=name_data[0]\n",
    "    data['mode']=name_data[-2]\n",
    "    data['filename']=file\n",
    "    files_data.append(data)\n",
    "files_df=pd.concat(files_data)\n",
    "files_df.reset_index()\n",
    "files_df.head()"
   ]
  },
  {
   "cell_type": "markdown",
   "metadata": {},
   "source": [
    "Join Patient Data with our Files DataFrame"
   ]
  },
  {
   "cell_type": "code",
   "execution_count": 34,
   "metadata": {},
   "outputs": [
    {
     "name": "stdout",
     "output_type": "stream",
     "text": [
      "<class 'pandas.core.frame.DataFrame'>\n",
      "RangeIndex: 126 entries, 0 to 125\n",
      "Data columns (total 2 columns):\n",
      " #   Column   Non-Null Count  Dtype \n",
      "---  ------   --------------  ----- \n",
      " 0   pid      126 non-null    int64 \n",
      " 1   disease  126 non-null    object\n",
      "dtypes: int64(1), object(1)\n",
      "memory usage: 2.1+ KB\n"
     ]
    }
   ],
   "source": [
    "patient_data.info()"
   ]
  },
  {
   "cell_type": "code",
   "execution_count": 35,
   "metadata": {},
   "outputs": [
    {
     "name": "stdout",
     "output_type": "stream",
     "text": [
      "<class 'pandas.core.frame.DataFrame'>\n",
      "Int64Index: 6898 entries, 0 to 10\n",
      "Data columns (total 7 columns):\n",
      " #   Column    Non-Null Count  Dtype  \n",
      "---  ------    --------------  -----  \n",
      " 0   start     6898 non-null   float64\n",
      " 1   end       6898 non-null   float64\n",
      " 2   crackles  6898 non-null   int64  \n",
      " 3   wheezes   6898 non-null   int64  \n",
      " 4   pid       6898 non-null   object \n",
      " 5   mode      6898 non-null   object \n",
      " 6   filename  6898 non-null   object \n",
      "dtypes: float64(2), int64(2), object(3)\n",
      "memory usage: 431.1+ KB\n"
     ]
    }
   ],
   "source": [
    "files_df.info()"
   ]
  },
  {
   "cell_type": "markdown",
   "metadata": {},
   "source": [
    "Jo join based on pid, we need to make the datatype of pid in both the files same."
   ]
  },
  {
   "cell_type": "code",
   "execution_count": 36,
   "metadata": {},
   "outputs": [],
   "source": [
    "patient_data.pid=patient_data.pid.astype('int32')\n",
    "files_df.pid=files_df.pid.astype('int32')"
   ]
  },
  {
   "cell_type": "markdown",
   "metadata": {},
   "source": [
    "Finally, we can merge to create our data"
   ]
  },
  {
   "cell_type": "code",
   "execution_count": 37,
   "metadata": {},
   "outputs": [
    {
     "data": {
      "text/html": [
       "<div>\n",
       "<style scoped>\n",
       "    .dataframe tbody tr th:only-of-type {\n",
       "        vertical-align: middle;\n",
       "    }\n",
       "\n",
       "    .dataframe tbody tr th {\n",
       "        vertical-align: top;\n",
       "    }\n",
       "\n",
       "    .dataframe thead th {\n",
       "        text-align: right;\n",
       "    }\n",
       "</style>\n",
       "<table border=\"1\" class=\"dataframe\">\n",
       "  <thead>\n",
       "    <tr style=\"text-align: right;\">\n",
       "      <th></th>\n",
       "      <th>start</th>\n",
       "      <th>end</th>\n",
       "      <th>crackles</th>\n",
       "      <th>wheezes</th>\n",
       "      <th>pid</th>\n",
       "      <th>mode</th>\n",
       "      <th>filename</th>\n",
       "      <th>disease</th>\n",
       "    </tr>\n",
       "  </thead>\n",
       "  <tbody>\n",
       "    <tr>\n",
       "      <th>0</th>\n",
       "      <td>0.036</td>\n",
       "      <td>0.579</td>\n",
       "      <td>0</td>\n",
       "      <td>0</td>\n",
       "      <td>101</td>\n",
       "      <td>sc</td>\n",
       "      <td>101_1b1_Al_sc_Meditron</td>\n",
       "      <td>URTI</td>\n",
       "    </tr>\n",
       "    <tr>\n",
       "      <th>1</th>\n",
       "      <td>0.579</td>\n",
       "      <td>2.450</td>\n",
       "      <td>0</td>\n",
       "      <td>0</td>\n",
       "      <td>101</td>\n",
       "      <td>sc</td>\n",
       "      <td>101_1b1_Al_sc_Meditron</td>\n",
       "      <td>URTI</td>\n",
       "    </tr>\n",
       "    <tr>\n",
       "      <th>2</th>\n",
       "      <td>2.450</td>\n",
       "      <td>3.893</td>\n",
       "      <td>0</td>\n",
       "      <td>0</td>\n",
       "      <td>101</td>\n",
       "      <td>sc</td>\n",
       "      <td>101_1b1_Al_sc_Meditron</td>\n",
       "      <td>URTI</td>\n",
       "    </tr>\n",
       "    <tr>\n",
       "      <th>3</th>\n",
       "      <td>3.893</td>\n",
       "      <td>5.793</td>\n",
       "      <td>0</td>\n",
       "      <td>0</td>\n",
       "      <td>101</td>\n",
       "      <td>sc</td>\n",
       "      <td>101_1b1_Al_sc_Meditron</td>\n",
       "      <td>URTI</td>\n",
       "    </tr>\n",
       "    <tr>\n",
       "      <th>4</th>\n",
       "      <td>5.793</td>\n",
       "      <td>7.521</td>\n",
       "      <td>0</td>\n",
       "      <td>0</td>\n",
       "      <td>101</td>\n",
       "      <td>sc</td>\n",
       "      <td>101_1b1_Al_sc_Meditron</td>\n",
       "      <td>URTI</td>\n",
       "    </tr>\n",
       "  </tbody>\n",
       "</table>\n",
       "</div>"
      ],
      "text/plain": [
       "   start    end  crackles  wheezes  pid mode                filename disease\n",
       "0  0.036  0.579         0        0  101   sc  101_1b1_Al_sc_Meditron    URTI\n",
       "1  0.579  2.450         0        0  101   sc  101_1b1_Al_sc_Meditron    URTI\n",
       "2  2.450  3.893         0        0  101   sc  101_1b1_Al_sc_Meditron    URTI\n",
       "3  3.893  5.793         0        0  101   sc  101_1b1_Al_sc_Meditron    URTI\n",
       "4  5.793  7.521         0        0  101   sc  101_1b1_Al_sc_Meditron    URTI"
      ]
     },
     "execution_count": 37,
     "metadata": {},
     "output_type": "execute_result"
    }
   ],
   "source": [
    "data=pd.merge(files_df,patient_data,on='pid')\n",
    "data.head()"
   ]
  },
  {
   "cell_type": "markdown",
   "metadata": {},
   "source": [
    "Saving our output in csv format"
   ]
  },
  {
   "cell_type": "code",
   "execution_count": 38,
   "metadata": {},
   "outputs": [],
   "source": [
    "os.makedirs('csv_data')\n",
    "data.to_csv('csv_data/data.csv',index=False)"
   ]
  },
  {
   "cell_type": "markdown",
   "metadata": {},
   "source": [
    "We only want that parts from whole audio file which contains Respiratory Cycles.\n",
    "\n",
    "We will utilize the start and end time specified for these cycles in our data dataframe"
   ]
  },
  {
   "cell_type": "code",
   "execution_count": 48,
   "metadata": {},
   "outputs": [],
   "source": [
    "'''\n",
    "    Takes a numpy array and spilts its using start and end args\n",
    "    \n",
    "    raw_data=numpy array of audio sample\n",
    "    start=time\n",
    "    end=time\n",
    "    sr=sampling_rate\n",
    "    mode=mono/stereo\n",
    "    by default librosa gives sr=22050\n",
    "'''\n",
    "def getPureSample(raw_data,start,end,sr):\n",
    "    max_ind = len(raw_data) \n",
    "    start_ind = min(int(start * sr), max_ind)\n",
    "    end_ind = min(int(end * sr), max_ind)\n",
    "    return raw_data[start_ind: end_ind]"
   ]
  },
  {
   "cell_type": "markdown",
   "metadata": {},
   "source": [
    "We multiplied start/end with sampling rate cause start is time and raw_data is array sampled according to sampling rate\n",
    "Now we also want our input images to our cnn to be of same size for that audio files must be of same length i.e (start - end) must be same\n",
    "\n",
    "We will find the best length we can have"
   ]
  },
  {
   "cell_type": "code",
   "execution_count": 40,
   "metadata": {},
   "outputs": [
    {
     "data": {
      "text/plain": [
       "<AxesSubplot: ylabel='pid'>"
      ]
     },
     "execution_count": 40,
     "metadata": {},
     "output_type": "execute_result"
    },
    {
     "data": {
      "image/png": "[encoded data removed]",
      "text/plain": [
       "<Figure size 640x480 with 1 Axes>"
      ]
     },
     "metadata": {},
     "output_type": "display_data"
    }
   ],
   "source": [
    "sns.scatterplot(x=(data.end-data.start), y=data.pid)"
   ]
  },
  {
   "cell_type": "code",
   "execution_count": 41,
   "metadata": {},
   "outputs": [
    {
     "data": {
      "text/plain": [
       "<AxesSubplot: >"
      ]
     },
     "execution_count": 41,
     "metadata": {},
     "output_type": "execute_result"
    },
    {
     "data": {
      "image/png": "[encoded data removed]",
      "text/plain": [
       "<Figure size 640x480 with 1 Axes>"
      ]
     },
     "metadata": {},
     "output_type": "display_data"
    }
   ],
   "source": [
    "sns.boxplot(y=(data.end-data.start))"
   ]
  },
  {
   "cell_type": "markdown",
   "metadata": {},
   "source": [
    "A boxplot is a standardized way of displaying the distribution of data based on a five number summary (“minimum”, first quartile [Q1], median, third quartile [Q3] and “maximum”).\n",
    "\n",
    "From these plots we can conclude that best length is ~6\n",
    "Also if difference is <6 we must Zero Pad it to get it to required length.\n",
    "\n",
    "Zero-padding refers to the process of symmetrically adding zeroes to the input matrix. It's a commonly used modification that allows the size of the input to be adjusted to our requirement.\n",
    "\n",
    "Here zero padding would mean silence."
   ]
  },
  {
   "cell_type": "code",
   "execution_count": 42,
   "metadata": {},
   "outputs": [],
   "source": [
    "# directory to store our processed audio files\n",
    "os.makedirs('processed_audio_files')"
   ]
  },
  {
   "cell_type": "markdown",
   "metadata": {},
   "source": [
    "A single sample of audio file can have Many Respiratory Cycles so we might have same multiple files for a single audio file\n",
    "\n",
    "We will be using Librosa module for loading audio files and Soundfile module for writing to output path\n",
    "\n",
    "Librosa - A python package for music and audio analysis. Librosa also normalizes the audio array.\n",
    "\n",
    "Soundfile - The soundfile module is an audio library based on libsndfile, CFFI and NumPy. It can read and write sound files. "
   ]
  },
  {
   "cell_type": "code",
   "execution_count": 50,
   "metadata": {},
   "outputs": [
    {
     "name": "stdout",
     "output_type": "stream",
     "text": [
      "Index: 0\n",
      "DataRow:\n",
      " start                        0.036\n",
      "end                          0.579\n",
      "crackles                         0\n",
      "wheezes                          0\n",
      "pid                            101\n",
      "mode                            sc\n",
      "filename    101_1b1_Al_sc_Meditron\n",
      "disease                       URTI\n",
      "Name: 0, dtype: object\n",
      "sr: 22050\n"
     ]
    }
   ],
   "source": [
    "# how single data looks in our dataframe\n",
    "import librosa as lb\n",
    "for index,row in data.iterrows():\n",
    "    print(\"Index:\",index)\n",
    "    print(\"DataRow:\\n\",row)\n",
    "    audio_file_loc=path + row['filename'] + '.wav'\n",
    "    audioArr,sampleRate=lb.load(audio_file_loc)\n",
    "    print(\"sr:\",sampleRate)\n",
    "    break"
   ]
  },
  {
   "cell_type": "code",
   "execution_count": 51,
   "metadata": {},
   "outputs": [
    {
     "name": "stderr",
     "output_type": "stream",
     "text": [
      "C:\\Users\\Aditya Bapat\\AppData\\Local\\Temp\\ipykernel_10684\\1838716462.py:34: FutureWarning: Pass size=132300 as keyword args. From version 0.10 passing these as positional arguments will result in an error\n",
      "  padded_data = lb.util.pad_center(pureSample, reqLen)\n"
     ]
    },
    {
     "name": "stdout",
     "output_type": "stream",
     "text": [
      "Total Files Processed:  6898\n"
     ]
    }
   ],
   "source": [
    "import soundfile as sf\n",
    "\n",
    "i,cnt = 0,0\n",
    "\n",
    "for index,row in data.iterrows():\n",
    "    maxLen=6\n",
    "    start=row['start']\n",
    "    end=row['end']\n",
    "    filename=row['filename']\n",
    "    \n",
    "    #If len > maxLen , change len to maxLen\n",
    "    if end-start>maxLen:\n",
    "        end=start+maxLen  # end - start = maxLen\n",
    "    \n",
    "    audio_file_loc=path + filename + '.wav'\n",
    "    \n",
    "    if index > 0:\n",
    "        #check if more cycles exits for same patient if so then add i to change filename\n",
    "        if data.iloc[index-1]['filename']==filename:\n",
    "            i+=1\n",
    "        else:\n",
    "            i=0\n",
    "    filename= filename + '_' + str(i) + '.wav'\n",
    "    \n",
    "    save_path='processed_audio_files/' + filename\n",
    "    cnt+=1\n",
    "    \n",
    "    # librosa also normalizes the audio array\n",
    "    audioArr,sampleRate=lb.load(audio_file_loc)\n",
    "    pureSample=getPureSample(audioArr,start,end,sampleRate)\n",
    "    \n",
    "    #pad audio if pureSample len < max_len\n",
    "    reqLen=6*sampleRate\n",
    "    padded_data = lb.util.pad_center(pureSample, reqLen)\n",
    "    \n",
    "    sf.write(file=save_path,data=padded_data,samplerate=sampleRate)\n",
    "print('Total Files Processed: ', cnt)"
   ]
  }
 ],
 "metadata": {
  "kernelspec": {
   "display_name": "Python 3.10.6 ('venv': venv)",
   "language": "python",
   "name": "python3"
  },
  "language_info": {
   "codemirror_mode": {
    "name": "ipython",
    "version": 3
   },
   "file_extension": ".py",
   "mimetype": "text/x-python",
   "name": "python",
   "nbconvert_exporter": "python",
   "pygments_lexer": "ipython3",
   "version": "3.10.6"
  },
  "orig_nbformat": 4,
  "vscode": {
   "interpreter": {
    "hash": "f6e50df55f6855f6beae697d30d9cd199f5488dc087d60e5188035caefbded0f"
   }
  }
 },
 "nbformat": 4,
 "nbformat_minor": 2
}
